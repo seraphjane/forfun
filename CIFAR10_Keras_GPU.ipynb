{
  "nbformat": 4,
  "nbformat_minor": 0,
  "metadata": {
    "colab": {
      "name": "CIFAR10_Keras_GPU.ipynb",
      "provenance": [],
      "collapsed_sections": [],
      "include_colab_link": true
    },
    "kernelspec": {
      "name": "python3",
      "display_name": "Python 3"
    },
    "accelerator": "GPU"
  },
  "cells": [
    {
      "cell_type": "markdown",
      "metadata": {
        "id": "view-in-github",
        "colab_type": "text"
      },
      "source": [
        "<a href=\"https://colab.research.google.com/github/seraphjane/forfun/blob/main/CIFAR10_Keras_GPU.ipynb\" target=\"_parent\"><img src=\"https://colab.research.google.com/assets/colab-badge.svg\" alt=\"Open In Colab\"/></a>"
      ]
    },
    {
      "metadata": {
        "id": "8xn5mZrKTLeZ"
      },
      "cell_type": "markdown",
      "source": [
        "# CIFAR 10 Classification: GPU Version\n",
        "\n",
        "The goal of this notebook is to implement a simple conv net to classify CIFAR10 images using Colab GPU and compare its training time against GPU on local workstation and <a href=\"https://colab.research.google.com/drive/1rP91Q5L1mPOVt7FcKkqFJSIMZrBtDawO\">Colab TPU</a>."
      ]
    },
    {
      "metadata": {
        "id": "N2Ro0bSxTkg3"
      },
      "cell_type": "code",
      "source": [
        "from time import time\n",
        "import numpy as np\n",
        "from sklearn.model_selection import train_test_split\n",
        "import matplotlib.pyplot as plt\n",
        "%matplotlib inline\n",
        "\n",
        "import tensorflow as tf\n",
        "# check tensorflow version, we want the one that support eager mode\n",
        "print(\"Tensorflow version:\", tf.__version__)\n",
        "# Check if eager execution mode is on\n",
        "tf.executing_eagerly()"
      ],
      "execution_count": null,
      "outputs": []
    },
    {
      "metadata": {
        "id": "4BOJ_WfFUrF4"
      },
      "cell_type": "markdown",
      "source": [
        "# Dataset\n",
        "\n",
        "Load CIFAR10 dataset and split the training set into train and validation set"
      ]
    },
    {
      "metadata": {
        "id": "Ug4jYDExTpUT",
        "colab": {
          "base_uri": "https://localhost:8080/",
          "height": 93
        },
        "outputId": "5243483e-3e90-4fe2-eabd-79d7731d27bc"
      },
      "cell_type": "code",
      "source": [
        "from tensorflow.keras.datasets import cifar10, mnist\n",
        "\n",
        "(x_train_full, y_train_full), (x_test, y_test) = cifar10.load_data()\n",
        "print('x_train_full shape: {}, y_train_full.shape: {}'\n",
        "      .format(x_train_full.shape, y_train_full.shape))\n",
        "print('x_test shape: {}, y_test.shape: {}'.format(x_test.shape, y_test.shape))\n",
        "y_train_full = y_train_full.reshape(y_train_full.shape[0],)\n",
        "y_test = y_test.reshape(y_test.shape[0],)\n",
        "print('y_train_full shape: {}, y_test shape: {}'\n",
        "      .format(y_train_full.shape, y_test.shape))\n",
        "\n",
        "# create dataset\n",
        "split = 0.2\n",
        "x_train, x_val, y_train, y_val = train_test_split(\n",
        "    x_train_full, y_train_full, test_size=0.2, random_state=42)\n",
        "print('x_train: {}, y_train: {}, x_val: {}, y_val: {}'\n",
        "      .format(x_train.shape, y_train.shape, x_val.shape, y_val.shape))\n",
        "\n",
        "def train_gen(batch_size):\n",
        "  while True:\n",
        "    offset = np.random.randint(0, x_train.shape[0] - batch_size)\n",
        "    yield x_train[offset:offset+batch_size], y_train[offset:offset + batch_size]\n",
        "\n",
        "# pick 25 random images and plot\n",
        "idxs = np.random.randint(x_train.shape[0], size=25)\n",
        "images = x_train[idxs]\n",
        "labels = y_train[idxs]\n",
        "classnames = ['airplane', 'automobile', 'bird', 'cat', 'deer', 'dog', 'frog', 'horse', 'ship', 'truck']\n",
        "\n",
        "fig, axes = plt.subplots(5,5, figsize=(8,9))\n",
        "for i, ax in enumerate(axes.flat):\n",
        "  ax.imshow(images[i])\n",
        "  ax.axis('off')\n",
        "  idx = labels[i]\n",
        "  ax.set_title(classnames[idx])\n",
        "  \n",
        "plt.show()"
      ],
      "execution_count": null,
      "outputs": [
        {
          "output_type": "stream",
          "text": [
            "Downloading data from https://www.cs.toronto.edu/~kriz/cifar-10-python.tar.gz\n",
            "170500096/170498071 [==============================] - 31s 0us/step\n",
            "x_train_full shape: (50000, 32, 32, 3), y_train_full.shape: (50000, 1)\n",
            "x_test shape: (10000, 32, 32, 3), y_test.shape: (10000, 1)\n"
          ],
          "name": "stdout"
        }
      ]
    },
    {
      "metadata": {
        "id": "Ly83Vy1aZz1G"
      },
      "cell_type": "markdown",
      "source": [
        "Lets plot 25 random images to get some idea about the dataset"
      ]
    },
    {
      "metadata": {
        "id": "eorI22azaHv3"
      },
      "cell_type": "markdown",
      "source": [
        "# Build a model"
      ]
    },
    {
      "metadata": {
        "id": "dVldYRFgU-4y",
        "colab": {
          "base_uri": "https://localhost:8080/",
          "height": 686
        },
        "outputId": "1a74ac16-ca96-4338-b692-5ba3cfab29f6"
      },
      "cell_type": "code",
      "source": [
        "model = tf.keras.models.Sequential()\n",
        "model.add(tf.keras.layers.Conv2D(32, (3,3), padding='same', activation='relu', input_shape=(32,32,3)))\n",
        "model.add(tf.keras.layers.BatchNormalization())\n",
        "model.add(tf.keras.layers.MaxPooling2D(pool_size=(3,3)))\n",
        "model.add(tf.keras.layers.Conv2D(64, (3,3), padding='same', activation='relu'))\n",
        "model.add(tf.keras.layers.BatchNormalization())\n",
        "model.add(tf.keras.layers.MaxPooling2D(pool_size=(3,3)))\n",
        "model.add(tf.keras.layers.Conv2D(128, (3,3), padding='same', activation='relu'))\n",
        "model.add(tf.keras.layers.BatchNormalization())\n",
        "model.add(tf.keras.layers.MaxPooling2D(pool_size=(3,3)))\n",
        "model.add(tf.keras.layers.Flatten())\n",
        "model.add(tf.keras.layers.Dense(128, activation='relu'))\n",
        "model.add(tf.keras.layers.Dropout(0.4))\n",
        "model.add(tf.keras.layers.Dense(10, activation='relu'))\n",
        "model.add(tf.keras.layers.Activation('softmax'))\n",
        "model.summary()"
      ],
      "execution_count": null,
      "outputs": [
        {
          "output_type": "stream",
          "text": [
            "_________________________________________________________________\n",
            "Layer (type)                 Output Shape              Param #   \n",
            "=================================================================\n",
            "conv2d (Conv2D)              (None, 32, 32, 32)        896       \n",
            "_________________________________________________________________\n",
            "batch_normalization (BatchNo (None, 32, 32, 32)        128       \n",
            "_________________________________________________________________\n",
            "max_pooling2d (MaxPooling2D) (None, 10, 10, 32)        0         \n",
            "_________________________________________________________________\n",
            "conv2d_1 (Conv2D)            (None, 10, 10, 64)        18496     \n",
            "_________________________________________________________________\n",
            "batch_normalization_1 (Batch (None, 10, 10, 64)        256       \n",
            "_________________________________________________________________\n",
            "max_pooling2d_1 (MaxPooling2 (None, 3, 3, 64)          0         \n",
            "_________________________________________________________________\n",
            "conv2d_2 (Conv2D)            (None, 3, 3, 128)         73856     \n",
            "_________________________________________________________________\n",
            "batch_normalization_2 (Batch (None, 3, 3, 128)         512       \n",
            "_________________________________________________________________\n",
            "max_pooling2d_2 (MaxPooling2 (None, 1, 1, 128)         0         \n",
            "_________________________________________________________________\n",
            "flatten (Flatten)            (None, 128)               0         \n",
            "_________________________________________________________________\n",
            "dense (Dense)                (None, 128)               16512     \n",
            "_________________________________________________________________\n",
            "dropout (Dropout)            (None, 128)               0         \n",
            "_________________________________________________________________\n",
            "dense_1 (Dense)              (None, 10)                1290      \n",
            "_________________________________________________________________\n",
            "activation (Activation)      (None, 10)                0         \n",
            "=================================================================\n",
            "Total params: 111,946\n",
            "Trainable params: 111,498\n",
            "Non-trainable params: 448\n",
            "_________________________________________________________________\n"
          ],
          "name": "stdout"
        }
      ]
    },
    {
      "metadata": {
        "id": "Km4T-mEttdPM"
      },
      "cell_type": "markdown",
      "source": [
        "# Train\n",
        "\n",
        "Train the model"
      ]
    },
    {
      "metadata": {
        "id": "l3K2npOZB0N_"
      },
      "cell_type": "code",
      "source": [
        "model.compile(\n",
        "    optimizer=tf.keras.optimizers.Adam(learning_rate=1e-3, ),\n",
        "    loss=tf.keras.losses.sparse_categorical_crossentropy,\n",
        "    metrics=['sparse_categorical_accuracy']\n",
        ")\n",
        "\n",
        "batch_size=1024\n",
        "start = time()\n",
        "history = model.fit_generator(\n",
        "    train_gen(batch_size), epochs=25, \n",
        "    steps_per_epoch=np.ceil(x_train.shape[0]/batch_size),\n",
        "    validation_data = (x_val, y_val),\n",
        ")\n",
        "end = time()"
      ],
      "execution_count": null,
      "outputs": []
    },
    {
      "metadata": {
        "id": "AIEJ7VnpuRbR",
        "colab": {
          "base_uri": "https://localhost:8080/",
          "height": 36
        },
        "outputId": "02005937-f158-4801-d4e1-e8027d55a4e7"
      },
      "cell_type": "code",
      "source": [
        "print('Total training time {} seconds'.format(end - start))"
      ],
      "execution_count": null,
      "outputs": [
        {
          "output_type": "stream",
          "text": [
            "Total training time 86.58456611633301 seconds\n"
          ],
          "name": "stdout"
        }
      ]
    },
    {
      "metadata": {
        "id": "5he2wYVS_JXH"
      },
      "cell_type": "code",
      "source": [
        "def plot(losses, accuracies, subplot_title):\n",
        "  fig, (ax1, ax2) = plt.subplots(1, 2, figsize=(14,4))\n",
        "  \n",
        "  ax1.plot(losses)\n",
        "  ax1.set_xlabel('Epochs')\n",
        "  ax1.set_ylabel('Loss')\n",
        "  ax1.set_title(subplot_title[0])\n",
        "  \n",
        "  ax2.plot(accuracies)\n",
        "  ax2.set_xlabel('Epochs')\n",
        "  ax2.set_ylabel('Accuracy')\n",
        "  ax2.set_title(subplot_title[1])\n",
        "    \n",
        "  plt.show()\n",
        "\n",
        "# Training\n",
        "plot(history.history['loss'], \n",
        "     history.history['sparse_categorical_accuracy'], \n",
        "     subplot_title=['Training Loss', 'Training Accuracy']\n",
        "    )"
      ],
      "execution_count": null,
      "outputs": []
    },
    {
      "metadata": {
        "id": "8TTb6UohIBVo"
      },
      "cell_type": "markdown",
      "source": [
        "### Plot Loss and Accuracy"
      ]
    },
    {
      "metadata": {
        "id": "nBOxCSu9u0lF",
        "colab": {
          "base_uri": "https://localhost:8080/",
          "height": 294
        },
        "outputId": "3cd5e8cf-2a2e-497d-a03c-f9ec9b81a530"
      },
      "cell_type": "code",
      "source": [
        "# Validation\n",
        "plot(history.history['val_loss'], \n",
        "     history.history['val_sparse_categorical_accuracy'], \n",
        "     subplot_title=['Validation Loss', 'Validation Accuracy']\n",
        "    )"
      ],
      "execution_count": null,
      "outputs": [
        {
          "output_type": "display_data",
          "data": {
            "image/png": "[encoded data removed]",
            "text/plain": [
              "<matplotlib.figure.Figure at 0x7fe1f1f34ac8>"
            ]
          },
          "metadata": {
            "tags": []
          }
        }
      ]
    },
    {
      "metadata": {
        "id": "IU5ZcMgg_jBn"
      },
      "cell_type": "markdown",
      "source": [
        "# Test accuracy\n",
        "\n",
        "Next, we plot the model predictions on test set"
      ]
    },
    {
      "metadata": {
        "id": "2q2Jd4Qv_k_G"
      },
      "cell_type": "code",
      "source": [
        "idxs = np.random.randint(x_test.shape[0], size=25)\n",
        "images = x_test[idxs]\n",
        "true_labels = y_test[idxs]\n",
        "\n",
        "preds = np.argmax(model.predict(images), axis=1)\n",
        "\n",
        "fig, axes = plt.subplots(5,5, figsize=(8,9))\n",
        "for i, ax in enumerate(axes.flat):\n",
        "  ax.imshow(images[i])\n",
        "  ax.axis('off')\n",
        "  idx = preds[i]\n",
        "  color = 'g' if idx == true_labels[i] else 'r'\n",
        "  ax.set_title(classnames[idx], color=color)\n",
        "\n",
        "plt.show()"
      ],
      "execution_count": null,
      "outputs": []
    },
    {
      "metadata": {
        "id": "iaybTokwNcPt"
      },
      "cell_type": "markdown",
      "source": [
        "Next, you can see how to train the model on TPU <a href=\"https://colab.research.google.com/drive/1rP91Q5L1mPOVt7FcKkqFJSIMZrBtDawO\">here</a>"
      ]
    },
    {
      "metadata": {
        "id": "AnHx16Nd_qKm"
      },
      "cell_type": "code",
      "source": [],
      "execution_count": null,
      "outputs": []
    }
  ]
}